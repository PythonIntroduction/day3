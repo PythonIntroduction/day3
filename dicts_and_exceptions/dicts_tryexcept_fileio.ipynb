{
 "cells": [
  {
   "cell_type": "markdown",
   "id": "6320cd7d-0fdc-40b7-acdb-a7912350162d",
   "metadata": {},
   "source": [
    "## Dictionaries in Python\n",
    "\n",
    "Sometimes, lists aren't the best way to store data. Lists use an **integer index** to identify each value, like `my_list[0]`, `my_list[1]`, etc. This works well for ordered sequences, but what if you want to store a collection of data that isn't naturally ordered?\n",
    "\n",
    "Imagine you want to store information about a person: their name, age, and city. You could use a list, but you'd have to remember that the name is at index 0, the age at index 1, and so on. This isn't very clear or readable.\n",
    "\n",
    "Dictionaries solve this by letting you **map one value (a key) to another (a value)**. Instead of using a number, you can use a descriptive string or another immutable data type as the key. This makes your code more readable and your data more organized. It's like a real-world dictionary where you look up a word (the key) to find its definition (the value).\n",
    "\n",
    "### Creating Dictionaries\n",
    "\n",
    "You can create dictionaries in a few ways. The most common is using **curly braces `{}`** with `key: value` pairs."
   ]
  },
  {
   "cell_type": "code",
   "execution_count": null,
   "id": "8cc76941-5d12-404b-aaeb-bbdabfbe2f6e",
   "metadata": {},
   "outputs": [],
   "source": [
    "# Literal dictionary\n",
    "person = {\"name\": \"Alice\", \"age\": 30, \"city\": \"New York\"}\n",
    "print(person)"
   ]
  },
  {
   "cell_type": "markdown",
   "id": "4892b3e7-dfc1-4188-8f93-049128fbc984",
   "metadata": {},
   "source": [
    "You can also use the **`dict()` constructor**. This is useful if you want to create a dictionary from a sequence of key-value pairs, like a list of tuples."
   ]
  },
  {
   "cell_type": "code",
   "execution_count": null,
   "id": "d228bad2-0c2a-4286-bb4f-4efb741da087",
   "metadata": {},
   "outputs": [],
   "source": [
    "# Using dict() constructor with keyword arguments\n",
    "person_from_constructor = dict(name=\"Alice\", age=30, city=\"New York\")\n",
    "print(person_from_constructor)\n",
    "\n",
    "# From a list of tuples\n",
    "person_from_sequence = [(\"name\", \"Alice\"), (\"age\", 30), (\"city\", \"New York\")]\n",
    "my_dict = dict(person_from_sequence)\n",
    "print(my_dict)"
   ]
  },
  {
   "cell_type": "markdown",
   "id": "03159cfe-50e9-43b7-b2af-960c74925214",
   "metadata": {},
   "source": [
    "To create an **empty dictionary**, simply use empty curly braces or the `dict()` constructor without arguments."
   ]
  },
  {
   "cell_type": "code",
   "execution_count": null,
   "id": "1bdea22c-018e-4b57-a052-e0682656a436",
   "metadata": {},
   "outputs": [],
   "source": [
    "empty_dict = {}\n",
    "another_empty_dict = dict()\n",
    "print(empty_dict)"
   ]
  },
  {
   "cell_type": "markdown",
   "id": "f58390eb-93b3-455f-b8ef-322eb486c0ea",
   "metadata": {},
   "source": [
    "### Accessing and Modifying Elements\n",
    "\n",
    "You access a dictionary's values by referencing its key inside square brackets `[]`. This is similar to how you use an index for a list."
   ]
  },
  {
   "cell_type": "code",
   "execution_count": null,
   "id": "56014fa5-5de4-4d9d-9e86-215293a927a7",
   "metadata": {},
   "outputs": [],
   "source": [
    "person = {\"name\": \"Alice\", \"age\": 30, \"city\": \"New York\"}\n",
    "# Accessing a value by its key\n",
    "print(person[\"name\"])"
   ]
  },
  {
   "cell_type": "markdown",
   "id": "b73047c8-a0d7-4a04-ab00-8b3de1b28306",
   "metadata": {},
   "source": [
    "If you try to access a key that doesn't exist, you'll get a `KeyError`."
   ]
  },
  {
   "cell_type": "code",
   "execution_count": null,
   "id": "b0414d6d-4330-4e7c-8974-48eaa42104c3",
   "metadata": {},
   "outputs": [],
   "source": [
    "# Accessing a non-existent key\n",
    "print(person[\"country\"])  # This raises a KeyError"
   ]
  },
  {
   "cell_type": "markdown",
   "id": "26cf4e4e-9bed-4967-92bc-5c2f44b314e9",
   "metadata": {},
   "source": [
    "To avoid this, you can use the **`.get()` method**, which returns `None` if the key is not found, or a default value you provide."
   ]
  },
  {
   "cell_type": "code",
   "execution_count": null,
   "id": "70b6f4f3-48ac-4ed7-b3e4-8f35d2102f47",
   "metadata": {},
   "outputs": [],
   "source": [
    "# Using .get() with no default\n",
    "print(person.get(\"country\"))\n",
    "\n",
    "# Using .get() with a default value\n",
    "print(person.get(\"country\", \"USA\"))"
   ]
  },
  {
   "cell_type": "markdown",
   "id": "25124081-3aea-4575-8cd4-009df63a79dd",
   "metadata": {},
   "source": [
    "Adding or updating elements is straightforward. If the key exists, the value is updated. If not, a new key-value pair is added."
   ]
  },
  {
   "cell_type": "code",
   "execution_count": null,
   "id": "6d849547-33a1-45ba-b5c7-5edb0f3cd842",
   "metadata": {},
   "outputs": [],
   "source": [
    "person[\"email\"] = \"alice@example.com\"  # Adds a new key-value pair\n",
    "person[\"age\"] = 31                       # Updates an existing value\n",
    "print(person)"
   ]
  },
  {
   "cell_type": "markdown",
   "id": "9433f01f-f82f-4750-b175-1869d6a3761c",
   "metadata": {},
   "source": [
    "### Removing Elements\n",
    "\n",
    "There are several ways to remove items from a dictionary:\n",
    "\n",
    "  - **`del` keyword**: Removes a specific key-value pair.\n",
    "  - **`.pop(key)` method**: Removes a key-value pair and returns the value.\n",
    "  - **`.popitem()` method**: Removes and returns an arbitrary (often the last) key-value pair.\n",
    "  - **`.clear()` method**: Removes all items from the dictionary.\n"
   ]
  },
  {
   "cell_type": "code",
   "execution_count": null,
   "id": "c4236370-3877-41dd-985d-2caede7110b7",
   "metadata": {},
   "outputs": [],
   "source": [
    "my_dict = {\"a\": 1, \"b\": 2, \"c\": 3}\n",
    "\n",
    "# using del\n",
    "del my_dict[\"a\"]\n",
    "print(my_dict)"
   ]
  },
  {
   "cell_type": "code",
   "execution_count": null,
   "id": "6ca8adff-290a-4344-b8c2-cd29cb5ce5ec",
   "metadata": {},
   "outputs": [],
   "source": [
    "my_dict = {\"a\": 1, \"b\": 2, \"c\": 3}\n",
    "\n",
    "# Using .pop()\n",
    "removed_value = my_dict.pop(\"b\")\n",
    "print(removed_value)\n",
    "print(my_dict)"
   ]
  },
  {
   "cell_type": "code",
   "execution_count": null,
   "id": "ba1537a8-5b7f-4b14-a10b-545c910f5948",
   "metadata": {},
   "outputs": [],
   "source": [
    "\n",
    "# Using .popitem()\n",
    "removed_item = my_dict.popitem()\n",
    "print(removed_item)\n",
    "print(my_dict)"
   ]
  },
  {
   "cell_type": "code",
   "execution_count": null,
   "id": "6acaaf67-6e58-4dc7-a279-e85d68e55ef2",
   "metadata": {},
   "outputs": [],
   "source": [
    "my_dict = {\"a\": 1, \"b\": 2, \"c\": 3}\n",
    "\n",
    "# Clear the dictionary entirely\n",
    "my_dict.clear()\n",
    "print(my_dict)"
   ]
  },
  {
   "cell_type": "markdown",
   "id": "31884e62-a66d-444b-a631-0f81176f2421",
   "metadata": {},
   "source": [
    "### Dictionary Views and Iteration\n",
    "\n",
    "Dictionaries have methods that return **views** of their contents. These views are dynamic; they reflect any changes made to the original dictionary.\n",
    "\n",
    "  - **`.keys()`**: A view of the dictionary's keys.\n",
    "  - **`.values()`**: A view of the dictionary's values.\n",
    "  - **`.items()`**: A view of the dictionary's key-value pairs (as tuples).\n",
    "\n",
    "You can iterate over a dictionary in a few ways. The most common is to loop over its keys."
   ]
  },
  {
   "cell_type": "code",
   "execution_count": null,
   "id": "c3be2d0c-a82f-4dc5-bec7-7bf01d718594",
   "metadata": {},
   "outputs": [],
   "source": [
    "person = {\"name\": \"Alice\", \"age\": 30, \"city\": \"New York\"}\n",
    "\n",
    "print(\"Keys:\")\n",
    "for key in person.keys():\n",
    "    print(key)"
   ]
  },
  {
   "cell_type": "code",
   "execution_count": null,
   "id": "96a78096-1fa1-4899-950d-d9c15d90e430",
   "metadata": {},
   "outputs": [],
   "source": [
    "# The default loop iterates over keys\n",
    "print(\"Default loop (keys):\")\n",
    "for key in person:\n",
    "    print(key)"
   ]
  },
  {
   "cell_type": "code",
   "execution_count": null,
   "id": "d3aa4c34-36ee-480d-9ccf-3852ba51f1bb",
   "metadata": {},
   "outputs": [],
   "source": [
    "print(\"Values:\")\n",
    "for value in person.values():\n",
    "    print(value)"
   ]
  },
  {
   "cell_type": "code",
   "execution_count": null,
   "id": "51790c12-1171-45f0-9e41-7008360e6777",
   "metadata": {},
   "outputs": [],
   "source": [
    "print(\"Items:\")\n",
    "for key, value in person.items():\n",
    "    print(f\"{key}: {value}\")"
   ]
  },
  {
   "cell_type": "markdown",
   "id": "f5b4424b-b954-4c13-ad0b-4ad745e59a77",
   "metadata": {},
   "source": [
    "### Other Useful Dictionary Operations\n",
    "\n",
    "#### Checking Membership\n",
    "\n",
    "You can check if a key exists in a dictionary using the `in` or `not in` keywords."
   ]
  },
  {
   "cell_type": "code",
   "execution_count": null,
   "id": "c80d8b95-c8b4-4a8f-9788-7c7ccdae8f04",
   "metadata": {},
   "outputs": [],
   "source": [
    "person = {\"name\": \"Alice\", \"age\": 30}\n",
    "print(\"name\" in person)\n",
    "print(\"country\" not in person)"
   ]
  },
  {
   "cell_type": "markdown",
   "id": "3ef46b7e-0d27-4648-9d44-5fc8acedf403",
   "metadata": {},
   "source": [
    "#### Merging Dictionaries\n",
    "\n",
    "You can combine two dictionaries using the **`|` operator** (Python 3.9+) or the **`.update()` method**."
   ]
  },
  {
   "cell_type": "code",
   "execution_count": null,
   "id": "37bc991d-1e2b-4d44-8e58-04e0e1a4c704",
   "metadata": {},
   "outputs": [],
   "source": [
    "dict1 = {\"a\": 1, \"b\": 2}\n",
    "dict2 = {\"b\": 3, \"c\": 4}\n",
    "\n",
    "# Using the | operator (new dictionary is created)\n",
    "merged_dict = dict1 | dict2\n",
    "print(merged_dict)"
   ]
  },
  {
   "cell_type": "code",
   "execution_count": null,
   "id": "f11784e4-57b5-4f0d-a8cb-d00c46fdc2f5",
   "metadata": {},
   "outputs": [],
   "source": [
    "# Using the .update() method (modifies the dictionary in place)\n",
    "dict1.update(dict2)\n",
    "print(dict1)"
   ]
  },
  {
   "cell_type": "markdown",
   "id": "ea0d9af2-cd8a-441c-8a1d-ea34ad2c362e",
   "metadata": {},
   "source": [
    "#### Nested Dictionaries\n",
    "\n",
    "A dictionary can contain other dictionaries as values."
   ]
  },
  {
   "cell_type": "code",
   "execution_count": null,
   "id": "8b7d876d-5256-4491-bb5c-c40fd609d1c1",
   "metadata": {},
   "outputs": [],
   "source": [
    "all_people = {\n",
    "    \"person_a\": {\"name\": \"Alice\", \"age\": 30},\n",
    "    \"person_b\": {\"name\": \"Bob\", \"age\": 25}\n",
    "}\n",
    "\n",
    "# Accessing a nested value\n",
    "print(all_people[\"person_a\"][\"age\"])"
   ]
  },
  {
   "cell_type": "code",
   "execution_count": null,
   "id": "cf0be936-03f4-41fc-8e8d-131efdc61049",
   "metadata": {},
   "outputs": [],
   "source": [
    "# Updating a nested value\n",
    "all_people[\"person_b\"][\"age\"] = 26\n",
    "print(all_people[\"person_b\"])"
   ]
  },
  {
   "cell_type": "markdown",
   "id": "8fd7baf7-9409-4397-9a9b-e894c91fcd30",
   "metadata": {},
   "source": [
    "#### Immutability of Keys\n",
    "\n",
    "Dictionary keys must be **immutable** (or **hashable**) types. This means they cannot be changed after creation. Strings, numbers, and tuples are hashable and can be used as keys."
   ]
  },
  {
   "cell_type": "code",
   "execution_count": null,
   "id": "0571d0ce-a08a-4a5b-9a44-8647453ebabe",
   "metadata": {},
   "outputs": [],
   "source": [
    "valid_dict = {\n",
    "    \"string_key\": 1,\n",
    "    123: 2,\n",
    "    (1, 2, 3): 3\n",
    "}\n",
    "\n"
   ]
  },
  {
   "cell_type": "markdown",
   "id": "a4147521-391c-48c2-8a49-ee61a129cad7",
   "metadata": {},
   "source": [
    "Lists and dictionaries are mutable and **cannot** be used as keys:"
   ]
  },
  {
   "cell_type": "code",
   "execution_count": null,
   "id": "9716fa53-85ad-43e3-8943-044c6c6fb2a2",
   "metadata": {},
   "outputs": [],
   "source": [
    "# Invalid key\n",
    "invalid_dict = {\n",
    "    [1, 2]: 1\n",
    "}"
   ]
  },
  {
   "cell_type": "markdown",
   "id": "0353c286-c8de-497e-9992-fdad65d1a26a",
   "metadata": {},
   "source": [
    "---\n",
    "\n",
    "First break. Stop here. We will briefly discuss what we have learned.\n",
    "\n",
    "![image](https://upload.wikimedia.org/wikipedia/commons/4/4c/Coffee_logo_bw.png)\n",
    "\n",
    "---"
   ]
  },
  {
   "cell_type": "markdown",
   "id": "726a266b-e2c5-420d-a451-69bbef9b54c8",
   "metadata": {},
   "source": [
    "## Handling Errors with Exceptions\n",
    "\n",
    "When you write a program, things don't always go as planned. Sometimes, your code might try to do something that's not possible, like dividing by zero or trying to access a file that doesn't exist. These situations, called **runtime errors**, can cause your program to crash. **Exceptions** are Python's way of handling these errors gracefully, without stopping your program dead in its tracks.\n",
    "\n",
    "Let's start with an example. Imagine we want to create a function that calculates the average of a list of numbers."
   ]
  },
  {
   "cell_type": "code",
   "execution_count": null,
   "id": "80afe306-c9fe-48ef-b08b-bc29c67e9919",
   "metadata": {},
   "outputs": [],
   "source": [
    "def average(numbers):\n",
    "    total = 0\n",
    "    for n in numbers:\n",
    "        total += n\n",
    "    return total / len(numbers)\n"
   ]
  },
  {
   "cell_type": "code",
   "execution_count": null,
   "id": "c927805e-348e-485f-8c7b-5899785c5556",
   "metadata": {},
   "outputs": [],
   "source": [
    "my_list = [10, 20, 30]\n",
    "print(average(my_list))"
   ]
  },
  {
   "cell_type": "code",
   "execution_count": null,
   "id": "ab9e0fdd-d0d3-4f66-91cd-df4e0f52a8ce",
   "metadata": {
    "scrolled": true
   },
   "outputs": [],
   "source": [
    "# This will cause an error\n",
    "my_list = [10, \"20\", 30]\n",
    "print(average(my_list))"
   ]
  },
  {
   "cell_type": "markdown",
   "id": "1d79cef2-214f-474f-a700-ce784296b586",
   "metadata": {},
   "source": [
    "As you can see, passing a list with a string in it causes a `TypeError` because you can't add an integer and a string. This is a common problem. Instead of letting the program crash, we can **handle the exception**."
   ]
  },
  {
   "cell_type": "markdown",
   "id": "2e015b76-8d63-43b6-84ee-ee38208b2965",
   "metadata": {},
   "source": [
    "### The `try` and `except` Blocks\n",
    "\n",
    "The core of exception handling is the `try...except` block. You put the code that might cause an error inside the **`try` block**. If an exception occurs, Python immediately stops executing the `try` block and jumps to the **`except` block**, which contains the code to handle the error. If no exception occurs, the `except` block is skipped.\n"
   ]
  },
  {
   "cell_type": "code",
   "execution_count": null,
   "id": "5a110b85-8cb2-462f-8270-a53f3217e8be",
   "metadata": {},
   "outputs": [],
   "source": [
    "my_list = [10, \"20\", 30]\n",
    "\n",
    "try:\n",
    "    average(my_list)\n",
    "except:\n",
    "    # here we can handle the error and try to make the best out of the situation\n",
    "    print(\"Error: There was something wrong in that list.\")"
   ]
  },
  {
   "cell_type": "markdown",
   "id": "129c94a1-1d79-480b-b26b-8c160e01cb21",
   "metadata": {},
   "source": [
    "Great! We now can catch exceptions. This allows us to react to unintended situations gracefully, without crashing our program.\n",
    "\n",
    "Consider the following real world situations, where exceptions could be used:\n",
    "* A user tries to open a file that was deleted after being selected in a file picker (`FileNotFoundError`).\n",
    "* An app downloads data from an API, but the internet connection drops halfway (`requests.exceptions.ConnectionError`).\n",
    "* The user is asked for a number, but they type `\"ten\"` instead of `10` (`ValueError`).\n",
    "* A financial app divides an amount by the number of participants, but there are no participants `0` (`ZeroDivisionError`).\n",
    "* A program loads an image, but the file is corrupted or not a valid format (`OSError`).\n",
    "* Aan app writes to disk, but the partition is full (`OSError: [Errno 28] No space left on device`).\n",
    "\n",
    "As you can see, there are different types of exceptions. Consider the following case:"
   ]
  },
  {
   "cell_type": "code",
   "execution_count": null,
   "id": "a01e1461-c522-4607-91bc-6c48e318e651",
   "metadata": {},
   "outputs": [],
   "source": [
    "my_list = []\n",
    "\n",
    "try:\n",
    "    average(my_list)\n",
    "except:\n",
    "    # here we can handle the error and try to make the best out of the situation\n",
    "    print(\"Error: There was something wrong in that list.\")"
   ]
  },
  {
   "cell_type": "markdown",
   "id": "27a475c6-0fb0-460d-a475-8fc990235b33",
   "metadata": {},
   "source": [
    "This time the list is empty. Do you have any idea what went wrong?\n",
    "\n",
    "At the moment it is hard to say, what exactly went wrong, because we handle all exceptions in the same way. A better way is to handle different exception types differently. Let's change our code to only handle `TypeError` exceptions:"
   ]
  },
  {
   "cell_type": "code",
   "execution_count": null,
   "id": "3121028b-a0fb-4384-a0d9-ab4ee7e68b2c",
   "metadata": {},
   "outputs": [],
   "source": [
    "my_list = [10, \"20\", 30]\n",
    "\n",
    "try:\n",
    "    average(my_list)\n",
    "except TypeError:\n",
    "    print(\"Error: The list must contain only numbers.\")"
   ]
  },
  {
   "cell_type": "markdown",
   "id": "d102de01-322e-4737-a195-2fb180fc9313",
   "metadata": {},
   "source": [
    "In this case only exceptions of type `TypeError` are catched. Let's see this in action, when we use the empty list again:"
   ]
  },
  {
   "cell_type": "code",
   "execution_count": null,
   "id": "5f8f5eb2-f084-465c-a9e0-cd8590bb1ec2",
   "metadata": {},
   "outputs": [],
   "source": [
    "my_list = []\n",
    "\n",
    "try:\n",
    "    average(my_list)\n",
    "except TypeError:\n",
    "    print(\"Error: The list must contain only numbers.\")"
   ]
  },
  {
   "cell_type": "markdown",
   "id": "12fcd167-8f8e-40f2-8c97-1d28e18c14b5",
   "metadata": {},
   "source": [
    "As you can see, the code fails, when we divide by the length of our list. Let's handle that case as well:"
   ]
  },
  {
   "cell_type": "code",
   "execution_count": null,
   "id": "c334f3ab-18fa-43b2-b661-4520521d44b8",
   "metadata": {},
   "outputs": [],
   "source": [
    "my_list = []\n",
    "\n",
    "try:\n",
    "    average(my_list)\n",
    "except TypeError:\n",
    "    print(\"Error: The list must contain only numbers.\")\n",
    "except ZeroDivisionError:\n",
    "    print(\"Error: The list cannot be empty.\")"
   ]
  },
  {
   "cell_type": "markdown",
   "id": "a4fb10d9-106c-4cd8-afa1-d78fb1330969",
   "metadata": {},
   "source": [
    "Nice! Here we've used multiple `except` blocks to handle different types of errors specifically. It's a **best practice** to catch specific exceptions rather than using a generic `except` block, which can hide other, unexpected errors.\n",
    "\n",
    "### Accessing the error object\n",
    "You can also access the exception object itself, which contains information about the error."
   ]
  },
  {
   "cell_type": "code",
   "execution_count": null,
   "id": "1d734c5e-c539-41aa-aa7a-89d8ec726ab7",
   "metadata": {},
   "outputs": [],
   "source": [
    "my_list = [10, 20, 30]\n",
    "\n",
    "# get an iterator object from my list.\n",
    "# It is not that important what exactly an iterator is. It's just an example to create another exception ;)\n",
    "my_iterator = iter(my_list)\n",
    "\n",
    "try:\n",
    "    average(my_iterator)\n",
    "except TypeError as e:\n",
    "    print(\"TypeError:\")\n",
    "    print(e)\n",
    "except ZeroDivisionError as e:\n",
    "    print(\"Error: The list cannot be empty.\")\n",
    "    print(e)"
   ]
  },
  {
   "cell_type": "markdown",
   "id": "13f87972-016a-4c3b-bd43-536b117b30ce",
   "metadata": {},
   "source": [
    "The important part is the `except TypeError as e`. Now we can access the type object with name `e` (you can also choose different names).\n",
    "\n",
    "If you want to know more about error-objects, you can write `help(e)` inside the except block."
   ]
  },
  {
   "cell_type": "markdown",
   "id": "1d7175e7-e9d8-49b1-a976-235536b30ccc",
   "metadata": {},
   "source": [
    "### The `else` and `finally` Blocks\n",
    "\n",
    "The `try...except` block can be extended with two optional blocks: `else` and `finally`.\n",
    "\n",
    "  - The **`else` block** is executed only if the code in the `try` block runs **without any exceptions**. This is useful for code that should only run if the operation was successful.\n",
    "\n",
    "  - The **`finally` block** is executed **no matter what**. Whether an exception occurred or not, the `finally` block will always run. This is the perfect place for **cleanup code**, such as closing a file or a database connection, to ensure resources are properly released."
   ]
  },
  {
   "cell_type": "code",
   "execution_count": null,
   "id": "fb8be1ad-718f-4694-9d5b-b5bbc04921c7",
   "metadata": {},
   "outputs": [],
   "source": [
    "my_list = [1, 2, 3]\n",
    "# you can try this as well\n",
    "# my_list = [1, \"2\", 3]\n",
    "\n",
    "try:\n",
    "    result = average(my_list)\n",
    "except TypeError:\n",
    "    print(\"Error: The list must contain only numbers.\")\n",
    "except ZeroDivisionError:\n",
    "    print(\"Error: The list cannot be empty.\")\n",
    "else:\n",
    "    print(\"Average was calculated successfully.\")\n",
    "finally:\n",
    "    print(\"Cleanup files and other stuff.\")"
   ]
  },
  {
   "cell_type": "markdown",
   "id": "ddcf4fc0-677a-404e-be71-51b234ef6061",
   "metadata": {},
   "source": [
    "## Raising an Exception\n",
    "\n",
    "You can raise your own exception, when you detect, that something has gone wrong. This is where the **`raise`** keyword comes in. You use `raise` to **\"throw\" an exception** when a condition is not met or an invalid state is reached.\n",
    "\n",
    "### Raising a Built-in Exception\n",
    "\n",
    "You can raise any of Python's built-in exceptions. For example, if a function receives an argument that's of the wrong type, you can raise a `TypeError` yourself.\n"
   ]
  },
  {
   "cell_type": "code",
   "execution_count": null,
   "id": "3a380635-01af-4c9e-9c2d-29ea541f86dc",
   "metadata": {},
   "outputs": [],
   "source": [
    "def average(numbers):\n",
    "    if not isinstance(numbers, list):  # this checks, if something is of type \"list\"\n",
    "        raise TypeError(\"Input data must be a list.\")\n",
    "\n",
    "    total = 0\n",
    "    for n in numbers:\n",
    "        if not isinstance(n, int):\n",
    "            raise TypeError(\"Found type \" + type(n).__name__ + \" in list, but expected int\")\n",
    "        total += n\n",
    "\n",
    "    if len(numbers) == 0:\n",
    "        raise ValueError(\"Cannot calculate average of empty list\")\n",
    "    return total / len(numbers)"
   ]
  },
  {
   "cell_type": "code",
   "execution_count": null,
   "id": "f8a3edd0-e717-48a3-9664-19f427636a0c",
   "metadata": {},
   "outputs": [],
   "source": [
    "# This works fine\n",
    "avg = average([1, 2, 3])\n",
    "print(avg)"
   ]
  },
  {
   "cell_type": "code",
   "execution_count": null,
   "id": "187faa11-6522-430e-a88f-fcc757123903",
   "metadata": {},
   "outputs": [],
   "source": [
    "# This will trigger our exception\n",
    "avg = average([1, \"2\", 3])\n",
    "print(avg)"
   ]
  },
  {
   "cell_type": "markdown",
   "id": "e49c3106-257a-4197-b68e-698c0f73a598",
   "metadata": {},
   "source": [
    "By using `raise`, you enforce a contract for your function: it expects a list, and if it doesn't get one, it immediately signals an error. This is a powerful way to make your code more robust and predictable. You can find a list of exception types [here](https://docs.python.org/3/library/exceptions.html#Exception).\n",
    "\n",
    "By the way: In reality, no one would probably define so many checks in an average function. With a little experience, you get a feel for which checks you need to include.\n",
    "\n",
    "This is especially necessary when you are writing code that will be used by others and you want to ensure that errors are understandable to the user."
   ]
  },
  {
   "cell_type": "markdown",
   "id": "97f0d957-1ca3-4f2e-a728-0d20f9e26d86",
   "metadata": {},
   "source": [
    "---\n",
    "\n",
    "Break. Stop here. We will briefly discuss what we have learned.\n",
    "\n",
    "![image](https://upload.wikimedia.org/wikipedia/commons/4/4c/Coffee_logo_bw.png)\n",
    "\n",
    "---"
   ]
  },
  {
   "cell_type": "markdown",
   "id": "5f092a91-9127-4841-a06c-9096a967adc2",
   "metadata": {},
   "source": [
    "## File Operations\n",
    "\n",
    "Working with files is a fundamental part of many programs. Python provides a rich set of tools for creating, reading, writing, and managing files and directories on your computer's file system.\n",
    "\n",
    "### Opening and Closing Files\n",
    "\n",
    "To interact with a file, you first need to **open** it. The `open()` function returns a file object, which you can use to perform operations like reading or writing. After you're done, it's crucial to **close** the file to free up system resources.\n",
    "\n",
    "The most reliable way to handle file operations is with a **context manager** using the `with` statement. This ensures the file is automatically closed, even if errors occur.\n"
   ]
  },
  {
   "cell_type": "code",
   "execution_count": null,
   "id": "837cbf0d-7f55-404a-a900-b1e935961fe9",
   "metadata": {},
   "outputs": [],
   "source": [
    "# The with statement automatically closes the file\n",
    "with open(\"my_file.txt\", \"w\") as file:\n",
    "    file.write(\"Hello, World!\")"
   ]
  },
  {
   "cell_type": "markdown",
   "id": "3f26cd7c-9f92-4569-9c07-f1a534661ae8",
   "metadata": {},
   "source": [
    "### File Modes\n",
    "\n",
    "When you open a file, you specify a **mode** that dictates how you can interact with it.\n",
    "\n",
    "  - **`r`**: Read mode (default). Raises an error if the file doesn't exist.\n",
    "  - **`w`**: Write mode. Overwrites the file if it exists. Creates a new file if it doesn't.\n",
    "  - **`a`**: Append mode. Adds content to the end of the file. Creates a new file if it doesn't exist.\n",
    "  - **`r+`**: Read and write mode.\n",
    "  - **`x`**: Exclusive creation. Creates a new file but fails if the file already exists.\n",
    "  - **`b`**: Binary mode. Used for non-text files like images or executables. You combine this with other modes, e.g., `rb` for reading binary or `wb` for writing binary."
   ]
  },
  {
   "cell_type": "code",
   "execution_count": null,
   "id": "a3cb77b9-06e5-4988-a618-103ddee582e1",
   "metadata": {},
   "outputs": [],
   "source": [
    "# Open for appending\n",
    "for i in range(3):\n",
    "    with open(\"log.txt\", \"a\") as file:\n",
    "        file.write(\"New log entry\\n\")"
   ]
  },
  {
   "cell_type": "markdown",
   "id": "af1e0939-4a27-447a-a36f-a08420626d9a",
   "metadata": {},
   "source": [
    "### Exercise\n",
    "\n",
    "- Open the current directory in a file browser and check, whether the files were created successfully. You can get the path to the files with the following lines:\n",
    "     ```\n",
    "     import os\n",
    "     os.getcwd()\n",
    "     ```\n",
    "- Create a file that contains the numbers from 0-255. Each number should be in a separate line\n",
    "    - *Hint:* You can use the newline character `\\n` to create a newline).\n",
    "    - *Hint:* You cannot write integers directly into a file. First you need to convert them to a string."
   ]
  },
  {
   "cell_type": "markdown",
   "id": "86bf1814-7bac-49d2-b283-c4e125c2ab1d",
   "metadata": {},
   "source": [
    "### Reading and Writing\n",
    "\n",
    "  - **`file.read()`**: Reads the entire file content into a single string. You can pass an optional argument to read a specific number of characters.\n",
    "  - **`file.readline()`**: Reads a single line from the file.\n",
    "  - **`file.readlines()`**: Reads all lines into a list of strings.\n",
    "  - **Iteration**: The most memory-efficient way to read a file line-by-line is to simply iterate over the file object.\n"
   ]
  },
  {
   "cell_type": "code",
   "execution_count": null,
   "id": "d7c0fb11-bc8e-4f67-bc73-c0a47a99b3f7",
   "metadata": {},
   "outputs": [],
   "source": [
    "with open(\"my_file.txt\", \"r\") as file:\n",
    "    for line in file:\n",
    "        print(line.strip()) # .strip() removes leading/trailing whitespace, including the newline\n",
    "\n",
    "with open(\"output.txt\", \"w\") as file:\n",
    "    file.write(\"First line.\\n\")\n",
    "    file.writelines([\"Second line.\\n\", \"Third line.\\n\"])"
   ]
  },
  {
   "cell_type": "markdown",
   "id": "e1143dc1-bbb2-4908-a7e3-afa9876cedce",
   "metadata": {},
   "source": [
    "**Writing** is done with `write()` and `writelines()`. `write()` takes a single string, while `writelines()` takes an iterable of strings. Note that `writelines()` does **not** add newline characters automatically."
   ]
  },
  {
   "cell_type": "markdown",
   "id": "66c4d1a8-44ef-4a0b-a887-045e44b22a54",
   "metadata": {},
   "source": [
    "## Exercise\n",
    "\n",
    "There is a file with name `example.json` that you can download [here](). TODO\n",
    "\n",
    "- Open the file using `with open() as file:`\n",
    "- Count the number of opening curly brackets in that file `{`\n",
    "- How many digits `0-9` are in that file?\n",
    "- **Puzzle:** Write a program, that checks whether every opening bracket `[` or `{` has a corresponding closing bracket `]` or `}`.\n",
    "   - Ensure brackets are properly matched and nested; for example, `[{ ]}` is invalid.\n"
   ]
  },
  {
   "cell_type": "markdown",
   "id": "ec859736-504f-4db8-957c-2e809ec670a1",
   "metadata": {},
   "source": [
    "### File Paths and Metadata\n",
    "\n",
    "To work with files, you need to manage their paths. The built-in `os` and `pathlib` modules are indispensable for this. `pathlib` offers an object-oriented approach that is often cleaner."
   ]
  },
  {
   "cell_type": "code",
   "execution_count": null,
   "id": "d7621486-fdf1-47cc-a484-374a00487e03",
   "metadata": {},
   "outputs": [],
   "source": [
    "import os\n",
    "from pathlib import Path\n",
    "\n",
    "# Using os.path\n",
    "file_path = os.path.join(\"my_folder\", \"my_file.txt\")\n",
    "\n",
    "# Using pathlib (recommended)\n",
    "path_obj = Path(\"my_folder\") / \"my_file.txt\"\n",
    "\n",
    "# Check if a file or directory exists\n",
    "print(Path(\"my_file.txt\").exists())\n",
    "\n",
    "# Get file size and other stats\n",
    "stats = os.stat(\"my_file.txt\")\n",
    "print(f\"File size: {stats.st_size} bytes\")"
   ]
  },
  {
   "cell_type": "markdown",
   "id": "512953a8-c682-4758-8c24-3c92a0f6df9e",
   "metadata": {},
   "source": [
    "The `glob` module is useful for finding files that match a specific pattern, similar to how a command-line shell works."
   ]
  },
  {
   "cell_type": "code",
   "execution_count": null,
   "id": "8be1724a-bc90-4b8e-8b77-7187f392a529",
   "metadata": {},
   "outputs": [],
   "source": [
    "import glob\n",
    "print(glob.glob(\"*.txt\"))"
   ]
  },
  {
   "cell_type": "markdown",
   "id": "d2b8caad-3234-4526-9f2b-f48556c1fdfb",
   "metadata": {},
   "source": [
    "### Directories\n",
    "\n",
    "You can perform various operations on directories using modules like `os` and `shutil`.\n",
    "\n",
    "  - **`os.listdir()`**: Lists all files and directories in a given path.\n",
    "  - **`os.mkdir()`**: Creates a new directory.\n",
    "  - **`shutil.copy()`**: Copies files.\n",
    "  - **`shutil.rmtree()`**: Deletes a directory and all its contents."
   ]
  },
  {
   "cell_type": "code",
   "execution_count": null,
   "id": "4c5b35a6-24f4-4b5f-be31-8e48c7fd36cb",
   "metadata": {},
   "outputs": [],
   "source": [
    "print('The current directory:', os.getcwd())\n",
    "\n",
    "print('\\nFiles and directories in the current directory:')\n",
    "print(os.listdir())"
   ]
  },
  {
   "cell_type": "markdown",
   "id": "80825283-96ab-4015-8065-837933b63391",
   "metadata": {},
   "source": [
    "## Saving data\n",
    "\n",
    "Storing data in a file and reading it again is a very common scenario. One format that is used widely is the so called `JSON`-Format (Java Script Object Notation).\n",
    "\n",
    "In the previous exercise you downloaded a file called `example.json`. This file is in json format."
   ]
  },
  {
   "cell_type": "code",
   "execution_count": null,
   "id": "07d202b1-5d48-499b-a3aa-ce4cf223ea05",
   "metadata": {},
   "outputs": [],
   "source": []
  }
 ],
 "metadata": {
  "kernelspec": {
   "display_name": "Python 3 (ipykernel)",
   "language": "python",
   "name": "python3"
  },
  "language_info": {
   "codemirror_mode": {
    "name": "ipython",
    "version": 3
   },
   "file_extension": ".py",
   "mimetype": "text/x-python",
   "name": "python",
   "nbconvert_exporter": "python",
   "pygments_lexer": "ipython3",
   "version": "3.13.7"
  }
 },
 "nbformat": 4,
 "nbformat_minor": 5
}
